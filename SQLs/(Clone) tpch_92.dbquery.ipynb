{
 "cells": [
  {
   "cell_type": "code",
   "execution_count": 0,
   "metadata": {
    "application/vnd.databricks.v1+cell": {
     "cellMetadata": {},
     "inputWidgets": {},
     "nuid": "7a2183c3-54fd-457a-abf6-285f9d7bbc30",
     "showTitle": false,
     "tableResultSettingsMap": {},
     "title": ""
    }
   },
   "outputs": [
    {
     "output_type": "display_data",
     "data": {
      "text/plain": [
       "Databricks visualization. Run in Databricks to view."
      ]
     },
     "metadata": {
      "application/vnd.databricks.v1.subcommand+json": {
       "baseErrorDetails": null,
       "bindings": {},
       "collapsed": false,
       "command": "%sql WITH q AS (SELECT\n     nation,\n     o_year,\n     SUM(amount) AS sum_profit\nFROM\n     (\n\t\tSELECT\n\t\t\tn_name AS nation,\n\t\t\tYEAR(o_orderdate) AS o_year,\n\t\t\tl_extendedprice * (1 - l_discount) - ps_supplycost * l_quantity AS amount\n\t\tFROM\n\t\t\tpart,\n\t\t\tsupplier,\n\t\t\tlineitem,\n\t\t\tpartsupp,\n\t\t\torders,\n\t\t\tnation\n\t\tWHERE \n\t\t\ts_suppkey = l_suppkey\n\t\t\tAND ps_suppkey = l_suppkey\n\t\t\tAND ps_partkey = l_partkey\n\t\t\tAND p_partkey = l_partkey\n\t\t\tAND o_orderkey = l_orderkey\n\t\t\tAND s_nationkey = n_nationkey\n\t\t\tAND p_name LIKE '%green%'\n     ) AS profit\nGROUP BY\n     nation,\n     o_year\nORDER BY\n     nation,\n     o_year ASC) SELECT `o_year`,SUM(`sum_profit`) `column_6a5cf966502`,`nation` FROM q GROUP BY `nation`,`o_year`",
       "commandTitle": "Line 1",
       "commandType": "auto",
       "commandVersion": 0,
       "commentThread": [],
       "commentsVisible": false,
       "contentSha256Hex": null,
       "customPlotOptions": {
        "redashChart": [
         {
          "key": "type",
          "value": "CHART"
         },
         {
          "key": "options",
          "value": {
           "alignYAxesAtZero": true,
           "coefficient": 1,
           "columnConfigurationMap": {
            "series": {
             "column": "nation",
             "id": "column_6a5cf966503"
            },
            "x": {
             "column": "o_year",
             "id": "column_6a5cf966501"
            },
            "y": [
             {
              "column": "sum_profit",
              "id": "column_6a5cf966502",
              "transform": "SUM"
             }
            ]
           },
           "dateTimeFormat": "YYYY-MM-DD HH:mm:ss",
           "direction": {
            "type": "counterclockwise"
           },
           "error_y": {
            "type": "data",
            "visible": true
           },
           "globalSeriesType": "line",
           "isAggregationOn": true,
           "legend": {
            "traceorder": "normal"
           },
           "missingValuesAsZero": true,
           "numberFormat": "0,0.[00000]",
           "percentFormat": "0[.]00%",
           "series": {
            "error_y": {
             "type": "data",
             "visible": true
            },
            "stacking": null
           },
           "seriesOptions": {
            "column_6a5cf966502": {
             "name": "sum_profit",
             "type": "line",
             "yAxis": 0
            }
           },
           "showDataLabels": false,
           "sizemode": "diameter",
           "sortX": true,
           "sortY": true,
           "swappedAxes": false,
           "textFormat": "",
           "useAggregationsUi": true,
           "valuesOptions": {},
           "version": 2,
           "xAxis": {
            "labels": {
             "enabled": true
            },
            "type": "-"
           },
           "yAxis": [
            {
             "type": "-"
            },
            {
             "opposite": true,
             "type": "-"
            }
           ]
          }
         }
        ]
       },
       "datasetPreviewNameToCmdIdMap": {},
       "diffDeletes": [],
       "diffInserts": [],
       "displayType": "redashChart",
       "error": null,
       "errorDetails": null,
       "errorSummary": null,
       "errorTraceType": null,
       "finishTime": 0,
       "globalVars": {},
       "guid": "",
       "height": "auto",
       "hideCommandCode": false,
       "hideCommandResult": false,
       "iPythonMetadata": null,
       "inputWidgets": {},
       "isLockedInExamMode": false,
       "latestUser": "a user",
       "latestUserId": null,
       "listResultMetadata": null,
       "metadata": {},
       "nuid": "abf97a0e-aab5-474a-825f-481e6431f866",
       "origId": 0,
       "parentHierarchy": [],
       "pivotAggregation": null,
       "pivotColumns": null,
       "position": 2.0,
       "resultDbfsErrorMessage": null,
       "resultDbfsStatus": "INLINED_IN_TREE",
       "results": null,
       "showCommandTitle": false,
       "startTime": 0,
       "state": "input",
       "streamStates": {},
       "subcommandOptions": {
        "queryPlan": {
         "groups": [
          {
           "column": "o_year",
           "type": "column"
          },
          {
           "column": "nation",
           "type": "column"
          }
         ],
         "selects": [
          {
           "column": "o_year",
           "type": "column"
          },
          {
           "alias": "column_6a5cf966502",
           "args": [
            {
             "column": "sum_profit",
             "type": "column"
            }
           ],
           "function": "SUM",
           "type": "function"
          },
          {
           "column": "nation",
           "type": "column"
          }
         ]
        },
        "redashId": "6e8e72cd-bfb2-4a73-b533-e58d8d3fa9fb",
        "redashLastUpdated": 1747820293000
       },
       "submitTime": 0,
       "subtype": "tableResultSubCmd.visualization",
       "tableResultIndex": 0,
       "tableResultSettingsMap": {},
       "useConsistentColors": false,
       "version": "CommandV1",
       "width": "auto",
       "workflows": null,
       "xColumns": null,
       "yColumns": null
      }
     },
     "output_type": "display_data"
    },
    {
     "output_type": "display_data",
     "data": {
      "text/plain": [
       "Databricks visualization. Run in Databricks to view."
      ]
     },
     "metadata": {
      "application/vnd.databricks.v1.subcommand+json": {
       "baseErrorDetails": null,
       "bindings": {},
       "collapsed": false,
       "command": "--yk TPCH\n\nUSE samples.tpch;\n\nSELECT\n     nation,\n     o_year,\n     SUM(amount) AS sum_profit\nFROM\n     (\n\t\tSELECT\n\t\t\tn_name AS nation,\n\t\t\tYEAR(o_orderdate) AS o_year,\n\t\t\tl_extendedprice * (1 - l_discount) - ps_supplycost * l_quantity AS amount\n\t\tFROM\n\t\t\tpart,\n\t\t\tsupplier,\n\t\t\tlineitem,\n\t\t\tpartsupp,\n\t\t\torders,\n\t\t\tnation\n\t\tWHERE \n\t\t\ts_suppkey = l_suppkey\n\t\t\tAND ps_suppkey = l_suppkey\n\t\t\tAND ps_partkey = l_partkey\n\t\t\tAND p_partkey = l_partkey\n\t\t\tAND o_orderkey = l_orderkey\n\t\t\tAND s_nationkey = n_nationkey\n\t\t\tAND p_name LIKE '%green%'\n     ) AS profit\nGROUP BY\n     nation,\n     o_year\nORDER BY\n     nation,\n     o_year ASC ",
       "commandTitle": "Results",
       "commandType": "auto",
       "commandVersion": 0,
       "commentThread": [],
       "commentsVisible": false,
       "contentSha256Hex": null,
       "customPlotOptions": {
        "redashChart": [
         {
          "key": "type",
          "value": "TABLE"
         },
         {
          "key": "options",
          "value": {
           "version": 2
          }
         }
        ]
       },
       "datasetPreviewNameToCmdIdMap": {},
       "diffDeletes": [],
       "diffInserts": [],
       "displayType": "redashChart",
       "error": null,
       "errorDetails": null,
       "errorSummary": null,
       "errorTraceType": null,
       "finishTime": 0,
       "globalVars": {},
       "guid": "",
       "height": "auto",
       "hideCommandCode": false,
       "hideCommandResult": false,
       "iPythonMetadata": null,
       "inputWidgets": {},
       "isLockedInExamMode": false,
       "latestUser": "a user",
       "latestUserId": null,
       "listResultMetadata": null,
       "metadata": {},
       "nuid": "1e7df50a-9a0b-4f8e-b4b1-b2185c9e9ba2",
       "origId": 0,
       "parentHierarchy": [],
       "pivotAggregation": null,
       "pivotColumns": null,
       "position": 3.0,
       "resultDbfsErrorMessage": null,
       "resultDbfsStatus": "INLINED_IN_TREE",
       "results": null,
       "showCommandTitle": false,
       "startTime": 0,
       "state": "input",
       "streamStates": {},
       "subcommandOptions": {
        "redashId": "bfce93e2-50f7-4169-bfa8-4b2eb0e9be5a",
        "redashLastUpdated": 1747820293000
       },
       "submitTime": 0,
       "subtype": "tableResultSubCmd.visualization",
       "tableResultIndex": 0,
       "tableResultSettingsMap": {},
       "useConsistentColors": false,
       "version": "CommandV1",
       "width": "auto",
       "workflows": null,
       "xColumns": null,
       "yColumns": null
      }
     },
     "output_type": "display_data"
    }
   ],
   "source": [
    "--yk TPCH\n",
    "\n",
    "USE samples.tpch;\n",
    "\n",
    "SELECT\n",
    "     nation,\n",
    "     o_year,\n",
    "     SUM(amount) AS sum_profit\n",
    "FROM\n",
    "     (\n",
    "\t\tSELECT\n",
    "\t\t\tn_name AS nation,\n",
    "\t\t\tYEAR(o_orderdate) AS o_year,\n",
    "\t\t\tl_extendedprice * (1 - l_discount) - ps_supplycost * l_quantity AS amount\n",
    "\t\tFROM\n",
    "\t\t\tpart,\n",
    "\t\t\tsupplier,\n",
    "\t\t\tlineitem,\n",
    "\t\t\tpartsupp,\n",
    "\t\t\torders,\n",
    "\t\t\tnation\n",
    "\t\tWHERE \n",
    "\t\t\ts_suppkey = l_suppkey\n",
    "\t\t\tAND ps_suppkey = l_suppkey\n",
    "\t\t\tAND ps_partkey = l_partkey\n",
    "\t\t\tAND p_partkey = l_partkey\n",
    "\t\t\tAND o_orderkey = l_orderkey\n",
    "\t\t\tAND s_nationkey = n_nationkey\n",
    "\t\t\tAND p_name LIKE '%green%'\n",
    "     ) AS profit\n",
    "GROUP BY\n",
    "     nation,\n",
    "     o_year\n",
    "ORDER BY\n",
    "     nation,\n",
    "     o_year ASC "
   ]
  }
 ],
 "metadata": {
  "application/vnd.databricks.v1+notebook": {
   "computePreferences": null,
   "dashboards": [],
   "environmentMetadata": null,
   "inputWidgetPreferences": null,
   "language": "sql",
   "notebookMetadata": {
    "sqlQueryOptions": {
     "applyAutoLimit": false,
     "catalog": "main",
     "schema": "00vsdb_loan2"
    }
   },
   "notebookName": "(Clone) tpch_92.dbquery.ipynb",
   "widgets": {}
  },
  "language_info": {
   "name": "sql"
  }
 },
 "nbformat": 4,
 "nbformat_minor": 0
}
